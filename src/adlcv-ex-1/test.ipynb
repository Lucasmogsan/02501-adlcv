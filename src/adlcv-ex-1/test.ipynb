{
 "cells": [
  {
   "cell_type": "code",
   "execution_count": 85,
   "metadata": {},
   "outputs": [],
   "source": [
    "import math\n",
    "import torch\n",
    "from torch import nn\n",
    "import torch.nn.functional as F\n",
    "from einops import rearrange, repeat"
   ]
  },
  {
   "cell_type": "code",
   "execution_count": 86,
   "metadata": {},
   "outputs": [],
   "source": [
    "embed_dim = 128"
   ]
  },
  {
   "cell_type": "code",
   "execution_count": 87,
   "metadata": {},
   "outputs": [],
   "source": [
    "tokens = nn.Parameter(torch.randn(16, 512, embed_dim))\n",
    "cls_token = nn.Parameter(torch.randn(1, 1, embed_dim))"
   ]
  },
  {
   "cell_type": "code",
   "execution_count": 88,
   "metadata": {},
   "outputs": [
    {
     "name": "stdout",
     "output_type": "stream",
     "text": [
      "tokens shape:  torch.Size([16, 512, 128])\n",
      "batch size shape:  16\n",
      "seq_length shape:  512\n",
      "embed_dim shape:  128\n",
      "---------------------------------------------\n",
      "tensor([[-0.2746, -0.3776,  0.4259,  ...,  0.8152,  0.5993, -0.9665],\n",
      "        [ 0.3267, -0.2080,  1.8929,  ...,  1.0312,  1.7465,  1.3037],\n",
      "        [ 1.4661,  0.2651, -0.7825,  ..., -1.5199, -0.6107,  1.6200],\n",
      "        ...,\n",
      "        [ 0.8229,  0.4300,  0.9586,  ..., -0.1277,  0.0460, -1.1217],\n",
      "        [-2.9557, -0.9000, -0.4491,  ...,  0.6556,  0.3396, -0.3450],\n",
      "        [ 1.8641, -0.4858, -1.8348,  ..., -1.2150, -0.0938,  0.1266]],\n",
      "       grad_fn=<SelectBackward0>)\n",
      "---------------------------------------------\n",
      "cls-token shape:  torch.Size([1, 1, 128])\n",
      "---------------------------------------------\n",
      "tensor([-0.3989,  0.1063, -0.6347], grad_fn=<SliceBackward0>)\n"
     ]
    }
   ],
   "source": [
    "batch_size, seq_length, embed_dim = tokens.size()\n",
    "print('tokens shape: ',tokens.shape)\n",
    "print('batch size shape: ', batch_size)\n",
    "print('seq_length shape: ', seq_length)\n",
    "print('embed_dim shape: ', embed_dim)\n",
    "print(45 * '-')\n",
    "print(tokens[0])\n",
    "print(45 * '-')\n",
    "print('cls-token shape: ', cls_token.shape)\n",
    "print(45 * '-')\n",
    "print(cls_token[0][0][0:3])"
   ]
  },
  {
   "cell_type": "code",
   "execution_count": 89,
   "metadata": {},
   "outputs": [
    {
     "name": "stdout",
     "output_type": "stream",
     "text": [
      "expand cls_token to match batch dim:  torch.Size([16, 1, 128])\n",
      "tokens shape:  torch.Size([16, 513, 128])\n"
     ]
    }
   ],
   "source": [
    "# Add cls_token to the beginning of tokens (in each batch)\n",
    "print('expand cls_token to match batch dim: ', cls_token.expand(batch_size, -1, -1).shape)\n",
    "\n",
    "tokens = torch.cat((cls_token.expand(batch_size, -1, -1), tokens), dim=1)\n",
    "print('tokens shape: ',tokens.shape)"
   ]
  },
  {
   "cell_type": "code",
   "execution_count": 91,
   "metadata": {},
   "outputs": [
    {
     "name": "stdout",
     "output_type": "stream",
     "text": [
      "tensor([-0.3989,  0.1063, -0.6347], grad_fn=<SliceBackward0>)\n",
      "tensor([[-0.3989,  0.1063, -0.6347,  ..., -0.1643, -0.4541, -1.0043],\n",
      "        [-0.2746, -0.3776,  0.4259,  ...,  0.8152,  0.5993, -0.9665],\n",
      "        [ 0.3267, -0.2080,  1.8929,  ...,  1.0312,  1.7465,  1.3037],\n",
      "        ...,\n",
      "        [ 0.8229,  0.4300,  0.9586,  ..., -0.1277,  0.0460, -1.1217],\n",
      "        [-2.9557, -0.9000, -0.4491,  ...,  0.6556,  0.3396, -0.3450],\n",
      "        [ 1.8641, -0.4858, -1.8348,  ..., -1.2150, -0.0938,  0.1266]],\n",
      "       grad_fn=<SelectBackward0>)\n"
     ]
    }
   ],
   "source": [
    "print(cls_token[0][0][0:3])\n",
    "print(tokens[0])"
   ]
  },
  {
   "cell_type": "code",
   "execution_count": null,
   "metadata": {},
   "outputs": [],
   "source": []
  }
 ],
 "metadata": {
  "kernelspec": {
   "display_name": "dtu-02501-adlcv",
   "language": "python",
   "name": "python3"
  },
  "language_info": {
   "codemirror_mode": {
    "name": "ipython",
    "version": 3
   },
   "file_extension": ".py",
   "mimetype": "text/x-python",
   "name": "python",
   "nbconvert_exporter": "python",
   "pygments_lexer": "ipython3",
   "version": "3.8.18"
  }
 },
 "nbformat": 4,
 "nbformat_minor": 2
}
